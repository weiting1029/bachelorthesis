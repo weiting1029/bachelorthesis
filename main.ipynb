{
 "cells": [
  {
   "cell_type": "code",
   "execution_count": 76,
   "metadata": {},
   "outputs": [],
   "source": [
    "import numpy as np \n",
    "from numpy.random import multivariate_normal\n",
    "from numpy.random import normal\n",
    "from sklearn.linear_model import LassoCV\n",
    "from sklearn.linear_model import LassoLarsCV\n",
    "from scipy import stats\n",
    "from matplotlib import pyplot\n",
    "import warnings\n",
    "import random\n",
    "warnings.filterwarnings(\"ignore\")\n",
    "# warnings.simplefilter(\"default\")\n",
    "from numpy import linalg as LA\n",
    "import copy\n",
    "import matplotlib.pyplot as plt\n",
    "import seaborn as sns\n",
    "import pandas as pd\n"
   ]
  },
  {
   "cell_type": "code",
   "execution_count": 77,
   "metadata": {},
   "outputs": [],
   "source": [
    "sns.set_style('darkgrid')\n",
    "plt.rc('axes',titlesize = 18)\n",
    "plt.rc('axes',labelsize = 14)\n",
    "plt.rc('xtick',labelsize= 13)\n",
    "plt.rc('ytick',labelsize= 13)\n",
    "plt.rc('legend',fontsize= 13)\n",
    "plt.rc('font',size= 13)\n",
    "\n",
    "\n"
   ]
  },
  {
   "cell_type": "code",
   "execution_count": 121,
   "metadata": {},
   "outputs": [],
   "source": [
    "#simultaition setting\n",
    "n = 100\n",
    "p = 150\n",
    "\n",
    "#generating the covariates\n",
    "\n",
    "Sigma2 = np.zeros([p,p])\n",
    "rho = 0.6\n",
    "for i in range(p):\n",
    "    for j in range(p):\n",
    "        Sigma2[i,j] = rho**abs(i-j)\n",
    "        \n",
    "Sigma1 = 0.8*np.ones([p,p])\n",
    "np.fill_diagonal(Sigma1, 1)\n",
    "mean1 = np.zeros(p)\n",
    "random.seed(10)\n",
    "Q = multivariate_normal(mean=mean1, cov=Sigma2, size = n)\n",
    "\n",
    "#generate the noise\n",
    "mu, sigma = 0, 0.1\n",
    "ERR = normal(mu, sigma, n)\n",
    "\n",
    "#set the true parameter \n",
    "beta = np.zeros(p)\n",
    "beta[1:3]=1\n",
    "beta[0]=0\n",
    "\n",
    "#DGP1\n",
    "Y = ERR + Q@beta"
   ]
  },
  {
   "cell_type": "code",
   "execution_count": 110,
   "metadata": {},
   "outputs": [],
   "source": [
    "test = find_KK(10,0.05,can_KK)\n",
    "\n"
   ]
  },
  {
   "cell_type": "code",
   "execution_count": 117,
   "metadata": {},
   "outputs": [],
   "source": [
    "test2 = find_KK(10,0.05,can_KK)"
   ]
  },
  {
   "cell_type": "code",
   "execution_count": null,
   "metadata": {},
   "outputs": [],
   "source": [
    "test3 = find_KK(10,0.05,can_KK)"
   ]
  },
  {
   "cell_type": "code",
   "execution_count": 119,
   "metadata": {},
   "outputs": [
    {
     "data": {
      "text/plain": [
       "(0.0, 0.1)"
      ]
     },
     "execution_count": 119,
     "metadata": {},
     "output_type": "execute_result"
    },
    {
     "data": {
      "image/png": "[encoded data removed]",
      "text/plain": [
       "<Figure size 432x288 with 1 Axes>"
      ]
     },
     "metadata": {},
     "output_type": "display_data"
    }
   ],
   "source": [
    "plt.plot(can_KK,test,label='n = 100, p = 50')\n",
    "plt.plot(can_KK,test2, label='n =100, p = 100' )\n",
    "# plt.plot(can_KK,test3, label='n = 100, p = 150')\n",
    "plt.ylabel('Rates of Type I Error')\n",
    "plt.xlabel('Repetition Times K')\n",
    "plt.title('hh')\n",
    "plt.legend()\n",
    "plt.ylim(0,0.1)"
   ]
  },
  {
   "cell_type": "code",
   "execution_count": 101,
   "metadata": {},
   "outputs": [],
   "source": [
    "reg_desf = LassoCV(cv=5, random_state=0).fit(Q, Y)\n",
    "est_beta = reg_desf.coef_\n",
    "lambda_desf = reg_desf.alpha_\n",
    "\n",
    "est_theta = est_beta[0]\n",
    "est_gamma = est_beta[1:]\n",
    "\n",
    "X = Q[:,1:]\n",
    "Z = Q[:,0]\n",
    "reg_w = LassoCV(cv=5, random_state=0).fit(X, Z)\n",
    "est_w = reg_w.coef_\n"
   ]
  },
  {
   "cell_type": "raw",
   "metadata": {},
   "source": [
    "reg_w = LassoCV(cv=5, random_state=0).fit(X, Z)"
   ]
  },
  {
   "cell_type": "raw",
   "metadata": {},
   "source": [
    "print(reg_desf.score(Q,Y))\n",
    "print(reg_w.score(X,Z))"
   ]
  },
  {
   "cell_type": "raw",
   "metadata": {},
   "source": [
    "#Method One DeSF###\n",
    "reg_desf = LassoLarsCV(cv=5).fit(Q, Y)\n",
    "est_beta = reg_desf.coef_\n",
    "lambda_desf = reg_desf.alpha_\n",
    "\n",
    "est_theta = est_beta[0]\n",
    "est_gamma = est_beta[1:]\n",
    "\n",
    "X = Q[:,1:]\n",
    "Z = Q[:,0]\n",
    "reg_w = LassoLarsCV(cv=5).fit(X, Z)\n",
    "est_w = reg_w.coef_\n",
    "\n",
    "print(reg_desf.score(Q,Y))\n",
    "print(reg_w.score(X,Z))"
   ]
  },
  {
   "cell_type": "markdown",
   "metadata": {},
   "source": [
    "# 1. DeSF"
   ]
  },
  {
   "cell_type": "code",
   "execution_count": 102,
   "metadata": {},
   "outputs": [],
   "source": [
    "def deco_score_function(est_beta, Y, Q, sigma):\n",
    "    n,p = Q.shape\n",
    "    X = Q[:,1:]\n",
    "    Z = Q[:,0]\n",
    "#     reg_desf = LassoCV(cv=5, random_state=0).fit(Q, Y)\n",
    "#     est_beta = reg_desf.coef_\n",
    "#     lambda_desf = reg_desf.alpha_\n",
    "    est_theta = est_beta[0]\n",
    "    est_gamma = est_beta[1:]\n",
    "    reg_w = LassoCV(cv=5, random_state=0).fit(X, Z)\n",
    "    est_w = reg_w.coef_\n",
    "    \n",
    "    desf = -(1/((sigma**2)*n))*np.dot(Y-X@est_gamma,Z-X@est_w)\n",
    "    return desf\n",
    "\n",
    "def u_score_function(est_beta,Y, Q, sigma):\n",
    "    n,p = Q.shape\n",
    "    X = Q[:,1:]\n",
    "    Z = Q[:,0]\n",
    "#     reg_desf = LassoCV(cv=5, random_state=0).fit(Q, Y)\n",
    "#     est_beta = reg_desf.coef_\n",
    "#     lambda_desf = reg_desf.alpha_\n",
    "\n",
    "    est_theta = est_beta[0]\n",
    "    est_gamma = est_beta[1:]\n",
    "    reg_w = LassoCV(cv=5, random_state=0).fit(X, Z)\n",
    "    est_w = reg_w.coef_\n",
    "    \n",
    "    desf = -(1/((sigma**2)*n))*np.dot(Y-X@est_gamma,Z-X@est_w)\n",
    "    Z_matrix = np.repeat(np.reshape(Z,[n,1]),p-1, axis=1)#?\n",
    "    I = 1/((sigma**2)*n)*(np.sum(Z**2)-np.sum(np.multiply(X,Z_matrix),axis=0)@est_w)\n",
    "    u_score = n**(0.5)*desf*I**(-0.5)\n",
    "    return u_score\n",
    "    \n",
    "    "
   ]
  },
  {
   "cell_type": "raw",
   "metadata": {},
   "source": [
    "test_s = deco_score_function(est_beta,Y,Q,sigma)\n",
    "print(test_s)\n",
    "test_u = u_score_function(est_beta,Y,Q,sigma)\n",
    "print(test_u)\n"
   ]
  },
  {
   "cell_type": "raw",
   "metadata": {},
   "source": [
    "p = 1-2*(1-stats.norm.cdf(abs(test_u)))\n",
    "print(p)"
   ]
  },
  {
   "cell_type": "raw",
   "metadata": {},
   "source": [
    "Z_matrix = np.repeat(np.reshape(Z,[n,1]),p-1, axis=1)#?\n",
    "# print(Z_matrix)\n",
    "np.sum(np.multiply(X,Z_matrix),axis=0)@est_w"
   ]
  },
  {
   "cell_type": "raw",
   "metadata": {},
   "source": [
    "#simulation\n",
    "KK = 10\n",
    "u_list = np.zeros(KK)\n",
    "warnings.filterwarnings(\"ignore\")\n",
    "for i in range(KK):\n",
    "    ERR = normal(mu, sigma, n)\n",
    "#     Q = multivariate_normal(mean=mean1, cov=Sigma1, size = n)\n",
    "    Y = ERR + Q@beta\n",
    "    u_list[i] = u_score_function(est_beta,Y,Q,sigma)\n",
    "    \n",
    "    "
   ]
  },
  {
   "cell_type": "raw",
   "metadata": {},
   "source": [
    "def normal_test(data):\n",
    "    k2, p = stats.normaltest(data)\n",
    "    alpha = 1e-3\n",
    "    print(\"p = {:g}\".format(p))\n",
    "    if p < alpha:  # null hypothesis: x comes from a normal distribution\n",
    "        print(\"The null hypothesis can be rejected\")\n",
    "    else:\n",
    "        print(\"The null hypothesis cannot be rejected\")\n",
    "def cal_test_power(data,KK):\n",
    "    rej_rate = 0\n",
    "    for i in range(KK):\n",
    "        p_value = 1-2*(1-stats.norm.cdf(abs(data[i])))\n",
    "        if p_value <= 0.90:# when accepting \n",
    "            rej_rate +=1\n",
    "#     print(\"the rate of rejection is {:g}\".format(1-rej_rate/KK))\n",
    "    return 1-rej_rate/KK\n",
    "        "
   ]
  },
  {
   "cell_type": "raw",
   "metadata": {},
   "source": [
    "normal_test(u_list)\n",
    "cal_test_power(u_list,KK)"
   ]
  },
  {
   "cell_type": "code",
   "execution_count": 104,
   "metadata": {},
   "outputs": [],
   "source": [
    "#find the sample size\n",
    "can_KK = np.arange(10,300,10)\n",
    "def find_KK(seed,alpha,can_KK):\n",
    "#     beta[0]=0\n",
    "    rej_list = np.zeros(len(can_KK))\n",
    "    for i in range(len(can_KK)):\n",
    "        KK = can_KK[i]\n",
    "        for j in range(KK):\n",
    "            np.random.seed(seed+j)\n",
    "            ERR_temp = normal(mu, sigma, n)\n",
    "            Q_temp = multivariate_normal(mean=mean1, cov=Sigma2, size = n)\n",
    "            p = len(mean1)\n",
    "            hyp_beta = np.zeros(p)\n",
    "            hyp_beta[1:3]=1\n",
    "            Y_temp = ERR_temp + Q_temp@hyp_beta\n",
    "            reg_temp = LassoCV(cv=5, random_state=0).fit(Q_temp, Y_temp)\n",
    "            temp_beta = reg_temp.coef_ \n",
    "#             print(Y_temp[0])\n",
    "            u_score = u_score_function(temp_beta, Y_temp,Q_temp,sigma)\n",
    "            p_value = 1-2*(1-stats.norm.cdf(abs(u_score)))\n",
    "            if p_value>1-alpha:\n",
    "                rej_list[i]+=1\n",
    "        rej_list[i] = rej_list[i]/KK\n",
    "    \n",
    "    return rej_list\n",
    "\n"
   ]
  },
  {
   "cell_type": "code",
   "execution_count": 86,
   "metadata": {},
   "outputs": [],
   "source": [
    "test = find_KK(10,0.05,can_KK)\n",
    "# can_KK2 = np.arange(10,200,10)\n",
    "# test2 = find_KK(10,0.05,can_KK2)\n",
    "# rates_list=np.concatenate((test2, test))\n",
    "# KK_list = np.concatenate((can_KK2,can_KK))\n"
   ]
  },
  {
   "cell_type": "code",
   "execution_count": 95,
   "metadata": {},
   "outputs": [],
   "source": [
    "test2 = find_KK(10,0.05,can_KK)"
   ]
  },
  {
   "cell_type": "code",
   "execution_count": null,
   "metadata": {},
   "outputs": [],
   "source": []
  },
  {
   "cell_type": "code",
   "execution_count": 114,
   "metadata": {},
   "outputs": [
    {
     "name": "stdout",
     "output_type": "stream",
     "text": [
      "[0.         0.         0.03333333 0.025      0.02       0.05\n",
      " 0.04285714 0.0375     0.03333333 0.03       0.04545455 0.05\n",
      " 0.04615385 0.05       0.05333333 0.05       0.05294118 0.05\n",
      " 0.05263158 0.055      0.05238095 0.05       0.04782609 0.05\n",
      " 0.048      0.05       0.04814815 0.04642857 0.04482759]\n"
     ]
    }
   ],
   "source": [
    "# print(test)"
   ]
  },
  {
   "cell_type": "code",
   "execution_count": 105,
   "metadata": {},
   "outputs": [],
   "source": [
    "test3 = find_KK(10,0.05,can_KK)"
   ]
  },
  {
   "cell_type": "code",
   "execution_count": 116,
   "metadata": {},
   "outputs": [
    {
     "data": {
      "text/plain": [
       "(0.0, 0.15)"
      ]
     },
     "execution_count": 116,
     "metadata": {},
     "output_type": "execute_result"
    },
    {
     "data": {
      "image/png": "[encoded data removed]",
      "text/plain": [
       "<Figure size 432x288 with 1 Axes>"
      ]
     },
     "metadata": {},
     "output_type": "display_data"
    }
   ],
   "source": [
    "plt.plot(can_KK,test,label='n = 50, p = 25')\n",
    "plt.plot(can_KK,test2, label='n = 50, p = 50' )\n",
    "# plt.plot(can_KK,test3, label='n = 50, p = 75')\n",
    "plt.ylabel('Rates of Type I Error')\n",
    "plt.xlabel('Repetition Times K')\n",
    "plt.title('hh')\n",
    "plt.legend()\n",
    "plt.ylim(0,0.15)"
   ]
  },
  {
   "cell_type": "code",
   "execution_count": 180,
   "metadata": {},
   "outputs": [],
   "source": [
    "theta_candidate = np.linspace(0,0.05,20)\n",
    "X = Q[:,1:]\n",
    "Z = Q[:,0]\n",
    "gamma = beta[1:]\n",
    "rej_list = np.zeros(len(theta_candidate))\n",
    "# for j in range(len(theta_candidate)):\n",
    "#     KK = 100\n",
    "#     u_list = np.zeros(KK)\n",
    "#     warnings.filterwarnings(\"ignore\")\n",
    "#     random.seed(10)\n",
    "KK = 100\n",
    "# for i in range(KK):\n",
    "#     ERR = normal(mu, sigma, n)\n",
    "#     Q = multivariate_normal(mean=mean1, cov=Sigma1, size = n)\n",
    "#     for j in range(len(theta_candidate)):\n",
    "#         beta[0] = theta_candidate[j]\n",
    "#         Y = ERR + Q@beta\n",
    "#         u_score = u_score_function(Y,Q,sigma)\n",
    "#         p_value = 1-2*(1-stats.norm.cdf(abs(u_score)))\n",
    "#         if p_value>0.95:\n",
    "#             rej_list[j]+=1\n",
    "\n",
    "\n",
    "\n",
    "def test_power_simulation_desf(seed,KK,alpha):\n",
    "#     beta[0]=0\n",
    "    rej_list = np.zeros(len(theta_candidate))\n",
    "    for i in range(KK):\n",
    "        np.random.seed(seed+i)\n",
    "        ERR_temp = normal(mu, sigma, n)\n",
    "#         print(random.random())\n",
    "        Q_temp = multivariate_normal(mean=mean1, cov=Sigma2, size = n)\n",
    "        p = len(mean1)\n",
    "        hyp_beta = np.zeros(p)\n",
    "        hyp_beta[1:3]=1\n",
    "        for j in range(len(theta_candidate)):\n",
    "            hyp_beta[0] = theta_candidate[j]\n",
    "            Y_temp = ERR_temp + Q_temp@hyp_beta\n",
    "            reg_temp = LassoCV(cv=5, random_state=0).fit(Q_temp, Y_temp)\n",
    "            temp_beta = reg_temp.coef_ \n",
    "#             print(temp_beta[0])\n",
    "            u_score = u_score_function(temp_beta, Y_temp,Q_temp,sigma)\n",
    "            p_value = 1-2*(1-stats.norm.cdf(abs(u_score)))\n",
    "            if p_value>1-alpha:\n",
    "                rej_list[j]+=1\n",
    "    return rej_list\n",
    "    "
   ]
  },
  {
   "cell_type": "code",
   "execution_count": 184,
   "metadata": {},
   "outputs": [],
   "source": [
    "test_power_desf= test_power_simulation_desf(10,KK,0.1)\n",
    "# print(beta)"
   ]
  },
  {
   "cell_type": "code",
   "execution_count": 192,
   "metadata": {},
   "outputs": [
    {
     "name": "stdout",
     "output_type": "stream",
     "text": [
      "[0.08 0.13 0.2  0.27 0.32 0.37 0.44 0.53 0.6  0.63 0.7  0.73 0.8  0.87\n",
      " 0.92 0.96 0.96 0.96 0.97 0.98]\n"
     ]
    }
   ],
   "source": [
    "print(test_power_desf/KK)"
   ]
  },
  {
   "cell_type": "code",
   "execution_count": 185,
   "metadata": {},
   "outputs": [],
   "source": [
    "# test_power_bootstrap= test_power_simulation_bootstrap(10,KK,0.1)"
   ]
  },
  {
   "cell_type": "code",
   "execution_count": 186,
   "metadata": {},
   "outputs": [
    {
     "data": {
      "text/plain": [
       "Text(0.5, 0, 'theta')"
      ]
     },
     "execution_count": 186,
     "metadata": {},
     "output_type": "execute_result"
    },
    {
     "data": {
      "image/png": "[encoded data removed]",
      "text/plain": [
       "<Figure size 432x288 with 1 Axes>"
      ]
     },
     "metadata": {
      "needs_background": "light"
     },
     "output_type": "display_data"
    }
   ],
   "source": [
    "import matplotlib.pyplot as plt\n",
    "plt.plot(theta_candidate,test_power_desf/KK)\n",
    "plt.ylabel('rejection rates')\n",
    "plt.xlabel('theta')"
   ]
  },
  {
   "cell_type": "markdown",
   "metadata": {},
   "source": [
    "# 2. Bootstrap"
   ]
  },
  {
   "cell_type": "raw",
   "metadata": {},
   "source": [
    "est_error = Y - Q@est_beta\n",
    "print(est_error.shape)\n"
   ]
  },
  {
   "cell_type": "markdown",
   "metadata": {},
   "source": [
    "check_errors = random.choices(demeaned_error,k = n)\n",
    "check_Y = check_errors + Q@est_beta"
   ]
  },
  {
   "cell_type": "raw",
   "metadata": {},
   "source": [
    "reg_boot = LassoCV(cv=5, random_state=0).fit(Q, check_Y)\n",
    "boot_beta = reg_boot.coef_\n",
    "lambda_boot = reg_boot.alpha_\n",
    "\n",
    "boot_theta = boot_beta[0]\n",
    "boot_gamma = boot_beta[1:]\n",
    "\n"
   ]
  },
  {
   "cell_type": "raw",
   "metadata": {},
   "source": [
    "boot_theta"
   ]
  },
  {
   "cell_type": "raw",
   "metadata": {},
   "source": [
    "def bootstrap_statistics(est_beta, Y, Q, sigma):\n",
    "    n,p = Q.shape\n",
    "    est_error = Y - Q@est_beta\n",
    "    demeaned_error = est_error - np.mean(est_error)\n",
    "    check_errors = random.choices(demeaned_error,k = n)\n",
    "    check_Y = check_errors + Q@est_beta\n",
    "    reg_boot = LassoCV(cv=5, random_state=0).fit(Q, check_Y)\n",
    "    check_beta = reg_boot.coef_\n",
    "    est_sigma = np.sum(demeaned_error**2)/n\n",
    "    return n**(0.5)*(check_beta-est_beta)/est_sigma**(.5), check_beta, est_sigma"
   ]
  },
  {
   "cell_type": "code",
   "execution_count": 24,
   "metadata": {},
   "outputs": [],
   "source": [
    "test_stats, test_beta, est_sigma = bootstrap_statistics(est_beta, Y, Q, sigma)"
   ]
  },
  {
   "cell_type": "raw",
   "metadata": {},
   "source": [
    "print(est_sigma)"
   ]
  },
  {
   "cell_type": "raw",
   "metadata": {},
   "source": [
    "# theta_candidate = np.linspace(0,2,20)\n",
    "def test_power_simulation_bootstrap(seed,KK,alpha):\n",
    "    rej_list = np.zeros(len(theta_candidate))\n",
    "    for i in range(KK):\n",
    "        random.seed(seed+i)\n",
    "        ERR_temp = normal(mu, sigma, n)\n",
    "        Q_temp = multivariate_normal(mean=mean1, cov=Sigma2, size = n)\n",
    "        p = len(mean1)\n",
    "        hyp_beta = np.zeros(p)\n",
    "        hyp_beta[1:3]=1\n",
    "        for j in range(len(theta_candidate)):\n",
    "            hyp_beta[0] = theta_candidate[j]\n",
    "            Y_temp = ERR_temp + Q_temp@hyp_beta\n",
    "            reg_temp = LassoCV(cv=5, random_state=0).fit(Q_temp, Y_temp)\n",
    "            temp_beta = reg_temp.coef_\n",
    "#             print(\"beta lasso is \" + str(est_beta[0]))\n",
    "            bootstats,bootstrap_beta,est_sigma = bootstrap_statistics(temp_beta, Y_temp,Q_temp,sigma)\n",
    "            stats_theta = bootstats[0]\n",
    "            print(\"bootstrap t-statistics is: \" + str(stats_theta))\n",
    "            t_quantile = stats.t(df=100).ppf((alpha/2,1-alpha/2))\n",
    "            lower_bound = stats_theta+est_sigma**(0.5)*t_quantile[0]\n",
    "            upper_bound = stats_theta+est_sigma**(0.5)*t_quantile[1]\n",
    "#             print(t_quantile[0])\n",
    "            if lower_bound*upper_bound>0:\n",
    "                rej_list[j]+=1\n",
    "    return rej_list"
   ]
  },
  {
   "cell_type": "raw",
   "metadata": {},
   "source": [
    "test_power_bootstrap= test_power_simulation_bootstrap(10,KK,0.1)"
   ]
  },
  {
   "cell_type": "raw",
   "metadata": {},
   "source": [
    "plt.plot(theta_candidate,test_power_bootstrap/KK)\n",
    "plt.ylabel('rejection rates')\n",
    "plt.xlabel('theta')"
   ]
  },
  {
   "cell_type": "markdown",
   "metadata": {},
   "source": [
    "# 3. LDPE"
   ]
  },
  {
   "cell_type": "code",
   "execution_count": 142,
   "metadata": {},
   "outputs": [
    {
     "name": "stdout",
     "output_type": "stream",
     "text": [
      "(100, 99)\n"
     ]
    }
   ],
   "source": [
    "Q[:,1]\n",
    "X = np.delete(Q,1,axis=1)\n",
    "print(X.shape)"
   ]
  },
  {
   "cell_type": "code",
   "execution_count": 143,
   "metadata": {},
   "outputs": [],
   "source": [
    "def estimate_Sigma_inverse(Q):\n",
    "    n,p = Q.shape\n",
    "    est_C = np.zeros([p,p])\n",
    "    score_list = np.zeros(p)\n",
    "    for i in range(p):\n",
    "        y = Q[:,i]\n",
    "        X = np.delete(Q,i,axis=1)\n",
    "        reg_i = LassoCV(cv=5, random_state=0).fit(X, y)\n",
    "        gamma_i = reg_i.coef_\n",
    "        alpha_i = reg_i.alpha_\n",
    "        est_C[i] = np.insert(-gamma_i,i,1)\n",
    "        score_list[i] = LA.norm(y-X@gamma_i,2)**2/n + alpha_i*LA.norm(gamma_i,1)\n",
    "    est_T = np.diag(score_list**(-2))\n",
    "    return est_T@est_C\n",
    "\n",
    "def LDPE_beta(est_beta,Y,Q):\n",
    "    n,p = Q.shape\n",
    "    est_C = np.zeros([p,p])\n",
    "    score_list = np.zeros(p)\n",
    "    for i in range(p):\n",
    "        y = Q[:,i]\n",
    "        X = np.delete(Q,i,axis=1)\n",
    "        reg_i = LassoCV(cv=5, random_state=0).fit(X, y)\n",
    "        gamma_i = reg_i.coef_\n",
    "        alpha_i = reg_i.alpha_\n",
    "        est_C[i] = np.insert(-gamma_i,i,1)\n",
    "        score_list[i] = LA.norm(y-X@gamma_i,2)**2/n + alpha_i*LA.norm(gamma_i,1)\n",
    "    est_T = np.diag(score_list**(-2))\n",
    "    est_inverse_Sigma = est_T@est_C\n",
    "    return est_beta+(est_inverse_Sigma@Q.T@(Y-Q@est_beta))/n\n",
    " \n",
    "def LDPE_statistics(est_beta, Y, Q, sigma):\n",
    "    n,p = Q.shape\n",
    "    est_C = np.zeros([p,p])\n",
    "    score_list = np.zeros(p)\n",
    "    for i in range(p):\n",
    "        y = Q[:,i]\n",
    "        X = np.delete(Q,i,axis=1)\n",
    "        reg_i = LassoCV(cv=5, random_state=0).fit(X, y)\n",
    "        gamma_i = reg_i.coef_\n",
    "        alpha_i = reg_i.alpha_\n",
    "        est_C[i] = np.insert(-gamma_i,i,1)\n",
    "        score_list[i] = LA.norm(y-X@gamma_i,2)**2/n + alpha_i*LA.norm(gamma_i,1)\n",
    "    est_T = np.diag(score_list**(-2))\n",
    "    est_inverse_Sigma = est_T@est_C\n",
    "    LDPE_beta = est_beta+(est_inverse_Sigma@Q.T@(Y-Q@est_beta))/n\n",
    "    Sigma = sigma**2 * est_inverse_Sigma@(Q.T@Q)@est_inverse_Sigma.T/n\n",
    "    return n**(0.5)*LDPE_beta[0]/Sigma[0,0]**0.5\n",
    "        "
   ]
  },
  {
   "cell_type": "code",
   "execution_count": null,
   "metadata": {},
   "outputs": [],
   "source": []
  },
  {
   "cell_type": "code",
   "execution_count": 144,
   "metadata": {},
   "outputs": [
    {
     "name": "stdout",
     "output_type": "stream",
     "text": [
      "[ 0.          0.97371176  0.99075434  0.          0.          0.\n",
      "  0.          0.         -0.         -0.         -0.         -0.\n",
      " -0.         -0.         -0.         -0.         -0.         -0.\n",
      "  0.          0.          0.          0.         -0.         -0.\n",
      " -0.         -0.          0.         -0.         -0.         -0.\n",
      " -0.         -0.         -0.         -0.         -0.          0.\n",
      "  0.         -0.         -0.         -0.         -0.         -0.\n",
      " -0.          0.          0.          0.          0.          0.\n",
      " -0.          0.          0.          0.         -0.          0.\n",
      "  0.          0.          0.          0.          0.          0.\n",
      "  0.          0.          0.          0.          0.         -0.\n",
      " -0.          0.          0.          0.         -0.          0.\n",
      "  0.          0.          0.          0.          0.          0.\n",
      " -0.         -0.         -0.         -0.         -0.         -0.\n",
      "  0.         -0.         -0.         -0.         -0.         -0.\n",
      " -0.          0.          0.          0.          0.         -0.\n",
      " -0.          0.         -0.         -0.        ]\n"
     ]
    }
   ],
   "source": [
    "print(est_beta)"
   ]
  },
  {
   "cell_type": "code",
   "execution_count": 145,
   "metadata": {},
   "outputs": [
    {
     "name": "stdout",
     "output_type": "stream",
     "text": [
      "0.000496190513620893\n"
     ]
    }
   ],
   "source": [
    "# est_Sigma_inverse = estimate_Sigma_inverse(Q)\n",
    "# test_beta = LDPE_beta(est_beta,Y,Q)\n",
    "LDPE_stats = LDPE_statistics(est_beta, Y, Q, sigma)\n",
    "print(LDPE_stats)"
   ]
  },
  {
   "cell_type": "code",
   "execution_count": 146,
   "metadata": {},
   "outputs": [],
   "source": [
    "theta_candidate = np.linspace(0,0.05,10)\n",
    "def test_power_simulation_ldpe(seed,KK,alpha):\n",
    "#     beta[0]=0\n",
    "    rej_list = np.zeros(len(theta_candidate))\n",
    "    for i in range(KK):\n",
    "        np.random.seed(seed+i)\n",
    "        ERR_temp = normal(mu, sigma, n)\n",
    "#         print(random.random())\n",
    "        Q_temp = multivariate_normal(mean=mean1, cov=Sigma2, size = n)\n",
    "        p = len(mean1)\n",
    "        hyp_beta = np.zeros(p)\n",
    "        hyp_beta[1:3]=1\n",
    "        for j in range(len(theta_candidate)):\n",
    "            hyp_beta[0] = theta_candidate[j]\n",
    "            Y_temp = ERR_temp + Q_temp@hyp_beta\n",
    "            reg_temp = LassoCV(cv=5, random_state=0).fit(Q_temp, Y_temp)\n",
    "            temp_beta = reg_temp.coef_ \n",
    "#             print(temp_beta[0])\n",
    "            u_score = LDPE_statistics(temp_beta, Y_temp, Q_temp, sigma)\n",
    "            p_value = 1-2*(1-stats.norm.cdf(abs(u_score)))\n",
    "            if p_value>1-alpha:\n",
    "                rej_list[j]+=1\n",
    "    return rej_list\n",
    "    "
   ]
  },
  {
   "cell_type": "code",
   "execution_count": 147,
   "metadata": {},
   "outputs": [],
   "source": [
    "test_power_ldpe= test_power_simulation_ldpe(10,KK,0.1)"
   ]
  },
  {
   "cell_type": "code",
   "execution_count": 148,
   "metadata": {},
   "outputs": [
    {
     "data": {
      "text/plain": [
       "Text(0.5, 0, 'theta')"
      ]
     },
     "execution_count": 148,
     "metadata": {},
     "output_type": "execute_result"
    },
    {
     "data": {
      "image/png": "[encoded data removed]",
      "text/plain": [
       "<Figure size 432x288 with 1 Axes>"
      ]
     },
     "metadata": {
      "needs_background": "light"
     },
     "output_type": "display_data"
    }
   ],
   "source": [
    "# plt.plot(theta_candidate,,test_power_desf/KK)\n",
    "plt.plot(theta_candidate, test_power_ldpe/KK,\"-b\", label=\"LDPE\")\n",
    "plt.plot(theta_candidate, test_power_desf/KK, \"-r\", label=\"DESF\")\n",
    "plt.title('n = 100, p =100')\n",
    "plt.legend(loc=\"upper left\")\n",
    "plt.ylabel('rejection rates (test power)')\n",
    "plt.xlabel('theta')"
   ]
  },
  {
   "cell_type": "code",
   "execution_count": 200,
   "metadata": {},
   "outputs": [
    {
     "data": {
      "text/plain": [
       "array([-0.00000000e+00,  1.00376235e+00,  9.61503735e-01,  0.00000000e+00,\n",
       "        4.62181872e-03,  0.00000000e+00, -0.00000000e+00,  0.00000000e+00,\n",
       "        0.00000000e+00,  0.00000000e+00,  0.00000000e+00,  0.00000000e+00,\n",
       "        0.00000000e+00,  0.00000000e+00, -0.00000000e+00,  0.00000000e+00,\n",
       "        0.00000000e+00, -0.00000000e+00, -4.81173263e-04,  0.00000000e+00,\n",
       "       -0.00000000e+00,  0.00000000e+00, -0.00000000e+00, -0.00000000e+00,\n",
       "        7.14392297e-03,  5.12838128e-04,  0.00000000e+00, -0.00000000e+00,\n",
       "       -0.00000000e+00,  0.00000000e+00, -0.00000000e+00,  0.00000000e+00,\n",
       "        0.00000000e+00,  0.00000000e+00,  0.00000000e+00,  0.00000000e+00,\n",
       "        0.00000000e+00,  0.00000000e+00,  0.00000000e+00,  0.00000000e+00,\n",
       "       -0.00000000e+00, -0.00000000e+00,  0.00000000e+00,  0.00000000e+00,\n",
       "        0.00000000e+00,  1.35457385e-02,  0.00000000e+00, -0.00000000e+00,\n",
       "       -0.00000000e+00, -0.00000000e+00])"
      ]
     },
     "execution_count": 200,
     "metadata": {},
     "output_type": "execute_result"
    }
   ],
   "source": [
    "est_beta"
   ]
  },
  {
   "cell_type": "code",
   "execution_count": 41,
   "metadata": {},
   "outputs": [
    {
     "ename": "NameError",
     "evalue": "name 'test' is not defined",
     "output_type": "error",
     "traceback": [
      "\u001b[0;31m---------------------------------------------------------------------------\u001b[0m",
      "\u001b[0;31mNameError\u001b[0m                                 Traceback (most recent call last)",
      "\u001b[0;32m<ipython-input-41-7e813bcf3e46>\u001b[0m in \u001b[0;36m<module>\u001b[0;34m\u001b[0m\n\u001b[0;32m----> 1\u001b[0;31m \u001b[0mtest\u001b[0m\u001b[0;34m.\u001b[0m\u001b[0mT\u001b[0m\u001b[0;34m\u001b[0m\u001b[0;34m\u001b[0m\u001b[0m\n\u001b[0m",
      "\u001b[0;31mNameError\u001b[0m: name 'test' is not defined"
     ]
    }
   ],
   "source": [
    "test.T"
   ]
  },
  {
   "cell_type": "code",
   "execution_count": 150,
   "metadata": {},
   "outputs": [
    {
     "name": "stdout",
     "output_type": "stream",
     "text": [
      "(50, 50)\n"
     ]
    }
   ],
   "source": [
    "# np.fill_diagonal(test, 1, wrap = True)\n",
    "print(test.shape)\n",
    "# test.shape\n"
   ]
  },
  {
   "cell_type": "code",
   "execution_count": 136,
   "metadata": {},
   "outputs": [
    {
     "name": "stdout",
     "output_type": "stream",
     "text": [
      "[0 1 2 3 4]\n",
      "[0 1 2 3 4]\n"
     ]
    }
   ],
   "source": [
    "test= np.arange(5)\n",
    "print(test)\n",
    "np.insert(test,0,1)\n",
    "print(test)"
   ]
  },
  {
   "cell_type": "code",
   "execution_count": null,
   "metadata": {},
   "outputs": [],
   "source": []
  }
 ],
 "metadata": {
  "kernelspec": {
   "display_name": "Python 3",
   "language": "python",
   "name": "python3"
  },
  "language_info": {
   "codemirror_mode": {
    "name": "ipython",
    "version": 3
   },
   "file_extension": ".py",
   "mimetype": "text/x-python",
   "name": "python",
   "nbconvert_exporter": "python",
   "pygments_lexer": "ipython3",
   "version": "3.8.5"
  }
 },
 "nbformat": 4,
 "nbformat_minor": 4
}
